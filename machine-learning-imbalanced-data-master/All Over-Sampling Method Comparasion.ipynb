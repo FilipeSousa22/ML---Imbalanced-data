{
 "cells": [
  {
   "cell_type": "code",
   "execution_count": 3,
   "id": "variable-official",
   "metadata": {},
   "outputs": [],
   "source": [
    "from collections import Counter\n",
    "\n",
    "import pandas as pd\n",
    "import matplotlib.pyplot as plt\n",
    "\n",
    "from sklearn.ensemble import RandomForestClassifier\n",
    "from sklearn.metrics import roc_auc_score\n",
    "from sklearn.model_selection import train_test_split\n",
    "from sklearn.preprocessing import MinMaxScaler\n",
    "from sklearn.svm import SVC\n",
    "\n",
    "from imblearn.datasets import fetch_datasets\n",
    "\n",
    "from imblearn.over_sampling import (\n",
    "    RandomOverSampler,\n",
    "    SMOTE,\n",
    "    ADASYN,\n",
    "    BorderlineSMOTE,\n",
    "    SVMSMOTE,\n",
    ")"
   ]
  },
  {
   "cell_type": "code",
   "execution_count": 4,
   "id": "broadband-treat",
   "metadata": {},
   "outputs": [],
   "source": [
    "oversampler_dict = {\n",
    "\n",
    "    'random': RandomOverSampler(\n",
    "        sampling_strategy='auto',\n",
    "        random_state=0),\n",
    "\n",
    "    'smote': SMOTE(\n",
    "        sampling_strategy='auto',  # samples only the minority class\n",
    "        random_state=0,  # for reproducibility\n",
    "        k_neighbors=5,\n",
    "        n_jobs=4),\n",
    "\n",
    "    'adasyn': ADASYN(\n",
    "        sampling_strategy='auto',  # samples only the minority class\n",
    "        random_state=0,  # for reproducibility\n",
    "        n_neighbors=5,\n",
    "        n_jobs=4),\n",
    "\n",
    "    'border1': BorderlineSMOTE(\n",
    "        sampling_strategy='auto',  # samples only the minority class\n",
    "        random_state=0,  # for reproducibility\n",
    "        k_neighbors=5,\n",
    "        m_neighbors=10,\n",
    "        kind='borderline-1',\n",
    "        n_jobs=4),\n",
    "\n",
    "    'border2': BorderlineSMOTE(\n",
    "        sampling_strategy='auto',  # samples only the minority class\n",
    "        random_state=0,  # for reproducibility\n",
    "        k_neighbors=5,\n",
    "        m_neighbors=10,\n",
    "        kind='borderline-2',\n",
    "        n_jobs=4),\n",
    "\n",
    "    'svm': SVMSMOTE(\n",
    "        sampling_strategy='auto',  # samples only the minority class\n",
    "        random_state=0,  # for reproducibility\n",
    "        k_neighbors=5,\n",
    "        m_neighbors=10,\n",
    "        n_jobs=4,\n",
    "        svm_estimator=SVC(kernel='linear')),\n",
    "}"
   ]
  },
  {
   "cell_type": "code",
   "execution_count": 5,
   "id": "gross-physics",
   "metadata": {},
   "outputs": [],
   "source": [
    "# function to train random forests and evaluate the performance\n",
    "\n",
    "def run_randomForests(X_train, X_test, y_train, y_test):\n",
    "\n",
    "    rf = RandomForestClassifier(\n",
    "        n_estimators=100, random_state=39, max_depth=3, n_jobs=4)\n",
    "    rf.fit(X_train, y_train)\n",
    "\n",
    "    print('Train set')\n",
    "    pred = rf.predict_proba(X_train)\n",
    "    print(\n",
    "        'Random Forests roc-auc: {}'.format(roc_auc_score(y_train, pred[:, 1])))\n",
    "\n",
    "    print('Test set')\n",
    "    pred = rf.predict_proba(X_test)\n",
    "    print(\n",
    "        'Random Forests roc-auc: {}'.format(roc_auc_score(y_test, pred[:, 1])))\n",
    "\n",
    "    return roc_auc_score(y_test, pred[:, 1])"
   ]
  },
  {
   "cell_type": "code",
   "execution_count": 7,
   "id": "chicken-annual",
   "metadata": {},
   "outputs": [],
   "source": [
    "datasets_ls = pd.read_excel(\"dados2.xlsx\")\n",
    "df = datasets_ls"
   ]
  },
  {
   "cell_type": "code",
   "execution_count": 9,
   "id": "hindu-differential",
   "metadata": {},
   "outputs": [
    {
     "name": "stdout",
     "output_type": "stream",
     "text": [
      "Train set\n",
      "Random Forests roc-auc: 0.9221326836581708\n",
      "Test set\n",
      "Random Forests roc-auc: 0.7619047619047619\n",
      "\n",
      "random\n",
      "Train set\n",
      "Random Forests roc-auc: 0.9120735734081985\n",
      "Test set\n",
      "Random Forests roc-auc: 0.7494331065759636\n",
      "\n",
      "smote\n",
      "Train set\n",
      "Random Forests roc-auc: 0.9485961666842742\n",
      "Test set\n",
      "Random Forests roc-auc: 0.7840136054421768\n",
      "\n",
      "adasyn\n",
      "Train set\n",
      "Random Forests roc-auc: 0.9501185036224402\n",
      "Test set\n",
      "Random Forests roc-auc: 0.764172335600907\n",
      "\n",
      "border1\n",
      "Train set\n",
      "Random Forests roc-auc: 0.9451222664529804\n",
      "Test set\n",
      "Random Forests roc-auc: 0.7465986394557823\n",
      "\n",
      "border2\n",
      "Train set\n",
      "Random Forests roc-auc: 0.9406794350572463\n",
      "Test set\n",
      "Random Forests roc-auc: 0.7426303854875284\n",
      "\n",
      "svm\n",
      "Train set\n",
      "Random Forests roc-auc: 0.9455290602873746\n",
      "Test set\n",
      "Random Forests roc-auc: 0.7358276643990929\n",
      "\n",
      "\n"
     ]
    }
   ],
   "source": [
    "results_dict = {}\n",
    "shapes_dict = {}\n",
    "\n",
    "for dataset_label, dataset in {\"df1\":df}.items():\n",
    "    \n",
    "    results_dict[dataset_label] = {}\n",
    "    shapes_dict[dataset_label] = {}\n",
    "    \n",
    "    X = dataset.drop(['Flag_apo_anul', 'NIF'], axis=1)\n",
    "    y = dataset['Flag_apo_anul']\n",
    "\n",
    "\n",
    "    X_train, X_test, y_train, y_test = train_test_split(\n",
    "    X,  # drop the target\n",
    "    y,  # just the target\n",
    "    test_size=0.3,\n",
    "    random_state=0)\n",
    "    \n",
    "    # as many undersampling techniques use KNN\n",
    "    # we set variables in the same scale\n",
    "    scaler = MinMaxScaler().fit(X_train)\n",
    "    X_train = scaler.transform(X_train)\n",
    "    X_test = scaler.transform(X_test)\n",
    "        \n",
    "    roc = run_randomForests(X_train, X_test, y_train, y_test)\n",
    "    \n",
    "    # store results\n",
    "    results_dict[dataset_label]['full_data'] = roc\n",
    "    shapes_dict[dataset_label]['full_data'] = len(X_train)\n",
    "    \n",
    "    print()\n",
    "    \n",
    "    for oversampler in oversampler_dict.keys():\n",
    "        \n",
    "        print(oversampler)\n",
    "        \n",
    "        # resample\n",
    "        X_resampled, y_resampled = oversampler_dict[oversampler].fit_resample(X_train, y_train)\n",
    "        \n",
    "        # evaluate performance\n",
    "        roc = run_randomForests(X_resampled, X_test, y_resampled, y_test)\n",
    "        \n",
    "        #store results\n",
    "        results_dict[dataset_label][oversampler] = roc\n",
    "        shapes_dict[dataset_label][oversampler] = len(X_resampled)\n",
    "        print()\n",
    "        \n",
    "    print()\n",
    "        "
   ]
  },
  {
   "cell_type": "code",
   "execution_count": 10,
   "id": "thirty-resort",
   "metadata": {},
   "outputs": [
    {
     "data": {
      "text/plain": [
       "smote        0.784014\n",
       "adasyn       0.764172\n",
       "full_data    0.761905\n",
       "random       0.749433\n",
       "border1      0.746599\n",
       "border2      0.742630\n",
       "svm          0.735828\n",
       "dtype: float64"
      ]
     },
     "execution_count": 10,
     "metadata": {},
     "output_type": "execute_result"
    }
   ],
   "source": [
    "#Compare the full-Dataset (without under-sampling) with the different methods of under-sampling\n",
    "\n",
    "lb = pd.Series(results_dict[dataset_label]).sort_values(ascending=False)\n",
    "lb"
   ]
  },
  {
   "cell_type": "code",
   "execution_count": 11,
   "id": "armed-reading",
   "metadata": {},
   "outputs": [
    {
     "data": {
      "image/png": "[encoded data removed]",
      "text/plain": [
       "<Figure size 432x288 with 1 Axes>"
      ]
     },
     "metadata": {
      "needs_background": "light"
     },
     "output_type": "display_data"
    }
   ],
   "source": [
    "#Compare with a barplot the full-Dataset (without under-sampling) with the different methods of under-sampling\n",
    "\n",
    "pd.Series(results_dict[dataset_label]).plot.bar()\n",
    "plt.title(dataset_label)\n",
    "plt.ylabel('roc-auc')\n",
    "plt.axhline(results_dict[dataset_label]['full_data'], color='r')\n",
    "plt.show()"
   ]
  },
  {
   "cell_type": "code",
   "execution_count": null,
   "id": "acquired-interface",
   "metadata": {},
   "outputs": [],
   "source": []
  }
 ],
 "metadata": {
  "kernelspec": {
   "display_name": "Python 3",
   "language": "python",
   "name": "python3"
  },
  "language_info": {
   "codemirror_mode": {
    "name": "ipython",
    "version": 3
   },
   "file_extension": ".py",
   "mimetype": "text/x-python",
   "name": "python",
   "nbconvert_exporter": "python",
   "pygments_lexer": "ipython3",
   "version": "3.8.8"
  }
 },
 "nbformat": 4,
 "nbformat_minor": 5
}
